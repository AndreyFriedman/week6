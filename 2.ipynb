{
 "cells": [
  {
   "cell_type": "code",
   "execution_count": 2,
   "metadata": {},
   "outputs": [
    {
     "name": "stdout",
     "output_type": "stream",
     "text": [
      "4343657.744000001\n",
      "the year is not valid\n",
      "-1\n",
      "the year is not valid\n",
      "-1\n",
      "the year is not valid\n",
      "-1\n",
      "1294623.1549999998\n"
     ]
    }
   ],
   "source": [
    "import numpy as np\n",
    "import pandas as pd\n",
    "\n",
    "# print(df)\n",
    "from matplotlib import pyplot as plt\n",
    "\n",
    "df = pd.read_csv(\"national-budget.csv\")\n",
    "\n",
    "\n"
   ]
  },
  {
   "cell_type": "code",
   "execution_count": 6,
   "metadata": {},
   "outputs": [
    {
     "name": "stdout",
     "output_type": "stream",
     "text": [
      "4343657.744000001\n",
      "the year is not valid\n",
      "-1\n",
      "the year is not valid\n",
      "-1\n",
      "the year is not valid\n",
      "-1\n",
      "1294623.1549999998\n"
     ]
    }
   ],
   "source": [
    "def education_budget(year: int) -> int:\n",
    "    df1 = df.copy()\n",
    "\n",
    "    df1 = df1.set_index('שם רמה 2')\n",
    "    df1 = df1[df1['שנה'] == year]\n",
    "    if(df1.empty):\n",
    "        print(\"the year is not valid\")\n",
    "        return -1;\n",
    "    df_year_education = df1.loc['חינוך']\n",
    "    df_year_education = df_year_education[df_year_education['הוצאה/הכנסה'] == 'הכנסה']\n",
    "    df_year_education = df_year_education[['שנה', 'הוצאה/הכנסה', 'הוצאה נטו']]\n",
    "\n",
    "    df_year_education.to_csv('bapbap')\n",
    "\n",
    "    education_budget_sum = df_year_education[\"הוצאה נטו\"].sum() * (-1)\n",
    "\n",
    "    return education_budget_sum;\n",
    "\n",
    "print(education_budget(2020))\n",
    "print(education_budget(1996))\n",
    "print(education_budget(2023))\n",
    "print(education_budget(2000.5))\n",
    "print(education_budget(2000))"
   ]
  },
  {
   "cell_type": "code",
   "execution_count": 3,
   "metadata": {},
   "outputs": [
    {
     "name": "stdout",
     "output_type": "stream",
     "text": [
      "0.03757124272657546\n",
      "the year is not valid\n",
      "-1\n",
      "the year is not valid\n",
      "-1\n",
      "the year is not valid\n",
      "-1\n",
      "0.00666407779473936\n"
     ]
    }
   ],
   "source": [
    "def security_budget_ratio(year: int) -> float:\n",
    "    df2 = df.copy()\n",
    "    df2 = df2.set_index('שם רמה 1')\n",
    "    df_year = df2[df2['שנה'] == year]\n",
    "    if(df_year.empty):\n",
    "        print(\"the year is not valid\")\n",
    "        return -1;\n",
    "    df_year_security = df_year.loc['בטחון וסדר ציבורי']\n",
    "    df_year_security = df_year_security[df_year_security['הוצאה/הכנסה'] == 'הכנסה']\n",
    "    df_year_security = df_year_security[['שנה', 'הוצאה/הכנסה', 'הוצאה נטו']]\n",
    "\n",
    "    security_budget_sum = df_year_security[\"הוצאה נטו\"].sum() * (-1)\n",
    "\n",
    "    df_year_total = df_year[df_year['הוצאה/הכנסה'] == 'הכנסה']\n",
    "    df_year_total = df_year_total[['שנה', 'הוצאה/הכנסה', 'הוצאה נטו']]\n",
    "    df_year_total.to_csv('bapbap')\n",
    "    df_year_total_hiuvi = df_year_total[df_year_total['הוצאה נטו'] > 0]\n",
    "    df_year_total_shlili = df_year_total[df_year_total['הוצאה נטו'] < 0]\n",
    "\n",
    "    total_budget_sum = df_year_total_hiuvi[\"הוצאה נטו\"].sum() + df_year_total_shlili[\"הוצאה נטו\"].sum() * (-1)\n",
    "\n",
    "    return security_budget_sum / total_budget_sum\n",
    "\n",
    "print(security_budget_ratio(2020))\n",
    "print(security_budget_ratio(1996))\n",
    "print(security_budget_ratio(2023))\n",
    "print(security_budget_ratio(2000.5))\n",
    "print(security_budget_ratio(2000))\n"
   ]
  },
  {
   "cell_type": "code",
   "execution_count": 4,
   "metadata": {},
   "outputs": [
    {
     "name": "stdout",
     "output_type": "stream",
     "text": [
      "2020\n",
      "1997\n",
      "2019\n",
      "the office is not valid\n",
      "-1\n"
     ]
    }
   ],
   "source": [
    "def largest_budget_year(office: str) -> int:\n",
    "    df_office = df[df['שם רמה 1'] == office]\n",
    "    if (df_office.empty):\n",
    "        print(\"the office is not valid\")\n",
    "        return -1;\n",
    "    df_office = df_office[df_office['הוצאה/הכנסה'] == 'הכנסה']\n",
    "    df_office = df_office[['שם רמה 1', 'הוצאה/הכנסה', 'הוצאה נטו', 'שנה']]\n",
    "\n",
    "    best_year = 1997\n",
    "    biggest_budget = 0\n",
    "    for i in range(1997, 2023):\n",
    "        df_office_i = df_office[df_office['שנה'] == i]\n",
    "\n",
    "        if df_office_i[\"הוצאה נטו\"].sum() * (-1) > biggest_budget:\n",
    "            best_year = i\n",
    "            biggest_budget = df_office_i[\"הוצאה נטו\"].sum() * (-1)\n",
    "\n",
    "    return best_year\n",
    "\n",
    "\n",
    "print(largest_budget_year('בטחון וסדר ציבורי'))\n",
    "print(largest_budget_year('שירותים חברתיים'))\n",
    "print(largest_budget_year('ענפי משק'))\n",
    "print(largest_budget_year('123'))"
   ]
  },
  {
   "cell_type": "code",
   "execution_count": 5,
   "metadata": {},
   "outputs": [
    {
     "data": {
      "image/png": "[encoded data removed]",
      "text/plain": [
       "<Figure size 864x576 with 1 Axes>"
      ]
     },
     "metadata": {
      "needs_background": "light"
     },
     "output_type": "display_data"
    },
    {
     "name": "stdout",
     "output_type": "stream",
     "text": [
      "('הכנסות תקציב רגיל', 3627780.8589999997, 'קניות בארץ', 64764105.59800002)\n",
      "the year is not valid\n",
      "-1\n",
      "the office is not valid\n",
      "-1\n",
      "the office is not valid\n",
      "-1\n"
     ]
    }
   ],
   "source": [
    "\n",
    "def name_level_2_biggest_waste_and_income(office: str, year: int) -> int:\n",
    "    df4 = df.copy();\n",
    "    df4 = df4[df4['שם רמה 1'] == office]\n",
    "    if (df4.empty):\n",
    "        print(\"the office is not valid\")\n",
    "        return -1;\n",
    "    all_name_level_2 = df4['שם מיון רמה 2'].unique()\n",
    "\n",
    "    df4 = df.copy();\n",
    "    df_office = df4[df4['שם רמה 1'] == office]\n",
    "    df_office_year = df_office[df_office['שנה'] == year]\n",
    "    if (df_office_year.empty):\n",
    "        print(\"the year is not valid\")\n",
    "        return -1;\n",
    "    df_office_year = df_office_year[['שנה', 'הוצאה/הכנסה', 'הוצאה נטו', 'שם מיון רמה 2']]\n",
    "    df_office_year.to_csv('bapbap')\n",
    "\n",
    "    df_office_year_waste = df_office_year[df_office_year['הוצאה/הכנסה'] == 'הוצאה']\n",
    "    df_office_year_income = df_office_year[df_office_year['הוצאה/הכנסה'] == 'הכנסה']\n",
    "\n",
    "    biggest_num_waste = 0\n",
    "    biggest_name_waste = \"\"\n",
    "    values_waste = list()\n",
    "    for i in all_name_level_2:\n",
    "        df_i = df_office_year_waste[df_office_year_waste['שם מיון רמה 2'] == i]\n",
    "        values_waste.append(df_i['הוצאה נטו'].sum())\n",
    "        if df_i['הוצאה נטו'].sum() > biggest_num_waste:\n",
    "            biggest_num_waste = df_i['הוצאה נטו'].sum()\n",
    "            biggest_name_waste = i\n",
    "\n",
    "    df_office_year_income = df_office_year_income[['שנה', 'הוצאה/הכנסה', 'הוצאה נטו', 'שם מיון רמה 2']]\n",
    "    biggest_num_income = 0\n",
    "    biggest_name_income = \"\"\n",
    "    values_income = list()\n",
    "    for i in all_name_level_2:\n",
    "        df_i = df_office_year_income[df_office_year_income['שם מיון רמה 2'] == i]\n",
    "        values_income.append(df_i['הוצאה נטו'].sum() * (-1))\n",
    "        if (df_i['הוצאה נטו'].sum() * (-1)) > biggest_num_income:\n",
    "            biggest_num_income = df_i['הוצאה נטו'].sum() * (-1)\n",
    "            biggest_name_income = i\n",
    "\n",
    "    # set width of bar\n",
    "    barWidth = 0.25\n",
    "    fig = plt.subplots(figsize=(12, 8))\n",
    "\n",
    "    # set height of bar\n",
    "    wastes = values_waste\n",
    "    incomes = values_income\n",
    "\n",
    "    # Set position of bar on X axis\n",
    "    br1 = np.arange(len(wastes))\n",
    "    br2 = [x + barWidth for x in br1]\n",
    "    br3 = [x + barWidth for x in br2]\n",
    "\n",
    "    # Make the plot\n",
    "    plt.bar(br1, wastes, color='r', width=barWidth,\n",
    "            edgecolor='grey', label='wastes')\n",
    "\n",
    "    plt.bar(br3, incomes, color='b', width=barWidth,\n",
    "            edgecolor='grey', label='incomes')\n",
    "\n",
    "    # Adding Xticks\n",
    "    plt.xlabel('Name', fontweight='bold', fontsize=15)\n",
    "    plt.ylabel('Number', fontweight='bold', fontsize=15)\n",
    "    plt.xticks([r + barWidth for r in range(len(wastes))],\n",
    "               all_name_level_2)\n",
    "\n",
    "    plt.legend()\n",
    "    plt.show()\n",
    "\n",
    "    return biggest_name_income, biggest_num_income, biggest_name_waste, biggest_num_waste\n",
    "\n",
    "print(name_level_2_biggest_waste_and_income('בטחון וסדר ציבורי', 2000))\n",
    "print(name_level_2_biggest_waste_and_income('בטחון וסדר ציבורי', 10))\n",
    "print(name_level_2_biggest_waste_and_income('123', 2000))\n",
    "print(name_level_2_biggest_waste_and_income('123', 123))\n"
   ]
  }
 ],
 "metadata": {
  "interpreter": {
   "hash": "aa82e020cc96f11c7492fb87cefc7ce6144b07b611d14ca5769f408a1348d239"
  },
  "kernelspec": {
   "display_name": "Python 3.7.1 64-bit",
   "language": "python",
   "name": "python3"
  },
  "language_info": {
   "codemirror_mode": {
    "name": "ipython",
    "version": 3
   },
   "file_extension": ".py",
   "mimetype": "text/x-python",
   "name": "python",
   "nbconvert_exporter": "python",
   "pygments_lexer": "ipython3",
   "version": "3.7.1"
  },
  "orig_nbformat": 4
 },
 "nbformat": 4,
 "nbformat_minor": 2
}
